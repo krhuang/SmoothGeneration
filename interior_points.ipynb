{
 "cells": [
  {
   "cell_type": "code",
   "execution_count": 2,
   "id": "bd652f6d-28cb-404e-8472-fcfd05842e72",
   "metadata": {},
   "outputs": [
    {
     "name": "stdout",
     "output_type": "stream",
     "text": [
      "polymake version 4.11\n",
      "Copyright (c) 1997-2023\n",
      "Ewgenij Gawrilow, Michael Joswig, and the polymake team\n",
      "Technische Universität Berlin, Germany\n",
      "https://polymake.org\n",
      "\n",
      "This is free software licensed under GPL; see the source for copying conditions.\n",
      "There is NO warranty; not even for MERCHANTABILITY or FITNESS FOR A PARTICULAR PURPOSE.\n",
      "\n"
     ]
    }
   ],
   "source": [
    "using Polymake"
   ]
  },
  {
   "cell_type": "code",
   "execution_count": 17,
   "id": "2728bb7d-f80d-4edb-9281-cf4a7a80429f",
   "metadata": {},
   "outputs": [],
   "source": [
    "#This file appends the information of #interior points to our Smooth Polygon Database, which we receive from Balletti\n",
    "\n",
    "# Smooth_Polytopes_DB is a file of Smooth 2-polytopes after parsing, from Balletti\n",
    "# Each line takes the form\n",
    "# 4: 0 0 0 1 1 1 1 0\n",
    "# The first integer is the number of vertices, subsequent pairs represent vertices, given in clockwise order\n",
    "filename = \"Smooth_Polytopes_DB.txt\"\n",
    "\n",
    "# Open the file\n",
    "open(filename) do file\n",
    "    for line in eachline(file)\n",
    "        # Initialize an empty matrix to store the vectors\n",
    "        vertices_matrix = Vector{Int}[]\n",
    "        # Split the line into parts using \": \" as the delimiter\n",
    "        parts = split(line, \": \")\n",
    "        \n",
    "        num_vertices = parse(Int, parts[1])\n",
    "        integers_str = split(parts[2], ' ')\n",
    "        if length(integers_str) >= num_vertices * 2\n",
    "            # Extract the remaining integers and convert them to vectors\n",
    "            vertices = [[1, parse(Int, x), parse(Int, y)] for (x, y) in zip(integers_str[1:2:end], integers_str[2:2:end])]\n",
    "            \n",
    "            # Append the vectors to the matrix\n",
    "            append!(vertices_matrix, vertices)\n",
    "        end\n",
    "        \n",
    "        vertices_array = permutedims(hcat(vertices_matrix...)) #Types conversion that I don't understand \n",
    "        #Process the vertices into a polytope, and write out its interior lattice points\n",
    "        new_polygon = polytope.Polytope(POINTS=vertices_array)\n",
    "        open(\"Smooth_Polygon_DB.txt\", \"a\") do file\n",
    "            if new_polygon.N_LATTICE_POINTS <= 30 #Check if the polytope isn't too large\n",
    "                #Now output \n",
    "                println(file, num_vertices, ':', new_polygon.N_INTERIOR_LATTICE_POINTS, \": \", join([join(row[2:end], ' ') for row in vertices_matrix], ' '))\n",
    "            end\n",
    "        end\n",
    "    end\n",
    "end"
   ]
  },
  {
   "cell_type": "code",
   "execution_count": null,
   "id": "f11558e6-d49d-497d-b3ac-379a14fa9428",
   "metadata": {},
   "outputs": [],
   "source": []
  }
 ],
 "metadata": {
  "kernelspec": {
   "display_name": "Julia 1.8.1",
   "language": "julia",
   "name": "julia-1.8"
  },
  "language_info": {
   "file_extension": ".jl",
   "mimetype": "application/julia",
   "name": "julia",
   "version": "1.8.1"
  }
 },
 "nbformat": 4,
 "nbformat_minor": 5
}

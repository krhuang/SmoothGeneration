{
 "cells": [
  {
   "cell_type": "code",
   "execution_count": 1,
   "id": "5e39a0c7-42b1-4a71-a13c-bfc673aa29ae",
   "metadata": {},
   "outputs": [
    {
     "name": "stdout",
     "output_type": "stream",
     "text": [
      "polymake version 4.13\n",
      "Copyright (c) 1997-2024\n",
      "Ewgenij Gawrilow, Michael Joswig, and the polymake team\n",
      "Technische Universität Berlin, Germany\n",
      "https://polymake.org\n",
      "\n",
      "This is free software licensed under GPL; see the source for copying conditions.\n",
      "There is NO warranty; not even for MERCHANTABILITY or FITNESS FOR A PARTICULAR PURPOSE.\n",
      "\n"
     ]
    }
   ],
   "source": [
    "#Importing Packages\n",
    "using Polymake #Via polymake.jl\n",
    "using Test\n",
    "using Base.Threads  # For parallel threads\n",
    "using Polymake.polytope"
   ]
  },
  {
   "cell_type": "code",
   "execution_count": 2,
   "id": "40cec7b7-1bda-4eea-8439-fbb076d47aad",
   "metadata": {
    "scrolled": true
   },
   "outputs": [
    {
     "name": "stdout",
     "output_type": "stream",
     "text": [
      "p.VERTICES = pm::Matrix<pm::Rational>\n",
      "1 -1 -1\n",
      "1 1 -1\n",
      "1 -1 1\n",
      "1 1 1\n",
      "\n",
      "p.N_LATTICE_POINTS = 9\n"
     ]
    },
    {
     "data": {
      "text/plain": [
       "9"
      ]
     },
     "execution_count": 2,
     "metadata": {},
     "output_type": "execute_result"
    }
   ],
   "source": [
    "#Checking Polymake works properly\n",
    "p = polytope.Polytope(POINTS=[1 -1 -1; 1 1 -1; 1 -1 1; 1 1 1; 1 0 0])\n",
    "@show p.VERTICES\n",
    "@show p.N_LATTICE_POINTS"
   ]
  },
  {
   "cell_type": "code",
   "execution_count": 3,
   "id": "88ee1154-a4af-4e62-a521-29a26c0df4d6",
   "metadata": {
    "scrolled": true
   },
   "outputs": [
    {
     "name": "stdout",
     "output_type": "stream",
     "text": [
      "4 smooth polytopes extracted of 4 polytopes read from file SmoothGeneration_output4\n",
      "3108 smooth polytopes extracted of 16692 polytopes read from file SmoothGeneration_output6\n",
      "2514 smooth polytopes extracted of 44305 polytopes read from file SmoothGeneration_output8\n",
      "1471 smooth polytopes extracted of 18637 polytopes read from file SmoothGeneration_output10\n",
      "2788 smooth polytopes extracted of 38764 polytopes read from file SmoothGeneration_output12\n",
      "1527 smooth polytopes extracted of 29942 polytopes read from file SmoothGeneration_output14\n",
      "983 smooth polytopes extracted of 17561 polytopes read from file SmoothGeneration_output16\n",
      "150 smooth polytopes extracted of 2595 polytopes read from file SmoothGeneration_output18\n",
      "37 smooth polytopes extracted of 443 polytopes read from file SmoothGeneration_output20\n",
      "5 smooth polytopes extracted of 63 polytopes read from file SmoothGeneration_output22\n",
      "2 smooth polytopes extracted of 57 polytopes read from file SmoothGeneration_output24\n",
      "0 smooth polytopes extracted of 3 polytopes read from file SmoothGeneration_output26\n",
      "0 smooth polytopes extracted of 2 polytopes read from file SmoothGeneration_output28\n",
      "Total number of polytopes processed: 12589\n"
     ]
    }
   ],
   "source": [
    "# global variables initialization\n",
    "\n",
    "const PMPolytope = typeof(polytope.cube(2))\n",
    "MAX_LATTICE_POINTS = 50\n",
    "\n",
    "# independent processing of each SmoothGeneration_output file\n",
    "function process_polytopes(i)\n",
    "    local_polytopes_list = PMPolytope[]\n",
    "    try\n",
    "        open(\"SmoothGeneration_output/SmoothGeneration_output$i\") do f\n",
    "            number_polytopes = 0\n",
    "            polytopes_read = 0\n",
    "            while !eof(f)\n",
    "                number_vertices = parse(Int, readline(f))\n",
    "                polytopes_read += 1\n",
    "\n",
    "                vertices_matrix = zeros(Int, number_vertices, 4)\n",
    "                for a in 1:number_vertices\n",
    "                    vertices_string = readline(f)\n",
    "                    vertex_vector = [1; parse.(Int64, split(vertices_string))]\n",
    "                    vertices_matrix[a, :] .= vertex_vector\n",
    "                end\n",
    "\n",
    "                new_polytope = polytope.Polytope(POINTS=vertices_matrix)\n",
    "\n",
    "                if !new_polytope.SMOOTH\n",
    "                    for row in eachrow(new_polytope.VERTICES) \n",
    "                        println(join(row[2:end], \" \"))\n",
    "                    end\n",
    "                else\n",
    "                    @assert new_polytope.NORMAL\n",
    "                end\n",
    "\n",
    "                if new_polytope.N_LATTICE_POINTS <= MAX_LATTICE_POINTS\n",
    "                    isomorphic_found = false\n",
    "                    for smooth_polytope in local_polytopes_list\n",
    "                        if polytope.lattice_isomorphic_smooth_polytopes(smooth_polytope, new_polytope)\n",
    "                            isomorphic_found = true\n",
    "                            break\n",
    "                        end\n",
    "                    end\n",
    "                    if !isomorphic_found\n",
    "                        push!(local_polytopes_list, new_polytope)\n",
    "                        number_polytopes += 1\n",
    "                    end\n",
    "                end\n",
    "            end\n",
    "            println(number_polytopes, \" smooth polytopes extracted of \",\n",
    "                    polytopes_read, \" polytopes read from file SmoothGeneration_output$i\")\n",
    "        end\n",
    "    catch e\n",
    "        if isa(e, SystemError)\n",
    "            println(\"Skipping file SmoothGeneration_output$i, does not exist/not found.\")\n",
    "        else\n",
    "            rethrow(e)\n",
    "        end\n",
    "    end\n",
    "    return local_polytopes_list\n",
    "end\n",
    "\n",
    "# Threaded run — store per-thread results\n",
    "results_per_thread = [PMPolytope[] for _ in 1:nthreads()]\n",
    "\n",
    "# Multi-threading\n",
    "Threads.@threads for i in 4:2:28\n",
    "    local_polys = process_polytopes(i)\n",
    "    results_per_thread[threadid()] = vcat(get(results_per_thread, threadid(), PMPolytope[]), local_polys)\n",
    "end\n",
    "\n",
    "# Merge all the local lists into a unified output\n",
    "polytopes_list = reduce(vcat, results_per_thread)\n",
    "\n",
    "println(\"Total number of polytopes processed: \", length(polytopes_list))"
   ]
  },
  {
   "cell_type": "code",
   "execution_count": 4,
   "id": "19b8d5cb-e01e-46ba-b094-7f1d6baa4d22",
   "metadata": {},
   "outputs": [],
   "source": [
    "#Outputting the Smooth 3-polytopes after creating the list\n",
    "output_file = \"prune_output\" # Output Filename\n",
    "\n",
    "if !isfile(output_file)\n",
    "    touch(output_file)  # Create an empty file if it doesn't exist\n",
    "else\n",
    "    println(\"File exists! Possible error...\")\n",
    "\n",
    "end\n",
    "\n",
    "for smooth_polytope in polytopes_list\n",
    "    @assert smooth_polytope.SMOOTH\n",
    "    @assert smooth_polytope.NORMAL\n",
    "    \n",
    "    open(output_file, \"a\") do file #Open the file in appending mode\n",
    "        println(file, smooth_polytope.N_VERTICES)\n",
    "\n",
    "        #Printing the contents of the matrix and avoiding the Polymake types showing up\n",
    "        for row in eachrow(smooth_polytope.VERTICES) \n",
    "            println(file, join(row[2:end], \" \"))\n",
    "        end\n",
    "    end\n",
    "end"
   ]
  },
  {
   "cell_type": "code",
   "execution_count": 5,
   "id": "dcb52399-e6df-401a-8ff7-9b9c205a2964",
   "metadata": {},
   "outputs": [
    {
     "name": "stdout",
     "output_type": "stream",
     "text": [
      "2070 with an interior lattice point\n",
      "61 with 1 interior lattice point\n",
      "227 with 2 interior lattice points\n",
      "607 with 3 interior lattice points\n",
      "564 with 4 interior lattice points\n",
      "321 with 5 interior lattice points\n",
      "221 with 6 interior lattice points\n",
      "55 with 7 interior lattice points\n",
      "13 with 8 interior lattice points\n",
      "1 with 9 interior lattice points\n",
      "Total polytopes: 12589\n"
     ]
    }
   ],
   "source": [
    "# Use a dictionary to store counts keyed by number of interior lattice points\n",
    "counts = Dict{Int, Int}()\n",
    "\n",
    "for smooth_polytope in polytopes_list\n",
    "    n = smooth_polytope.N_INTERIOR_LATTICE_POINTS\n",
    "    if n >= 1\n",
    "        counts[n] = get(counts, n, 0) + 1\n",
    "    end\n",
    "end\n",
    "\n",
    "# Print total with at least one interior lattice point\n",
    "total_with_interior = sum(values(counts))\n",
    "println(total_with_interior, \" with an interior lattice point\")\n",
    "\n",
    "# Print breakdown\n",
    "for n in sort(collect(keys(counts)))\n",
    "    word = n == 1 ? \"point\" : \"points\"\n",
    "    println(counts[n], \" with $n interior lattice $word\")\n",
    "end\n",
    "\n",
    "println(\"Total polytopes: \", length(polytopes_list))"
   ]
  },
  {
   "cell_type": "code",
   "execution_count": 8,
   "id": "e6a6f497",
   "metadata": {},
   "outputs": [
    {
     "name": "stdout",
     "output_type": "stream",
     "text": [
      "Lattice points = 4: 1\n",
      "Lattice points = 5: 0\n",
      "Lattice points = 6: 1\n",
      "Lattice points = 7: 1\n",
      "Lattice points = 8: 3\n",
      "Lattice points = 9: 4\n",
      "Lattice points = 10: 6\n",
      "Lattice points = 11: 5\n",
      "Lattice points = 12: 12\n",
      "Lattice points = 13: 10\n",
      "Lattice points = 14: 17\n",
      "Lattice points = 15: 14\n",
      "Lattice points = 16: 29\n",
      "Lattice points = 17: 21\n",
      "Lattice points = 18: 39\n",
      "Lattice points = 19: 30\n",
      "Lattice points = 20: 54\n",
      "Lattice points = 21: 42\n",
      "Lattice points = 22: 63\n",
      "Lattice points = 23: 56\n",
      "Lattice points = 24: 94\n",
      "Lattice points = 25: 75\n",
      "Lattice points = 26: 113\n",
      "Lattice points = 27: 91\n",
      "Lattice points = 28: 154\n",
      "Lattice points = 29: 103\n",
      "Lattice points = 30: 186\n",
      "Lattice points = 31: 140\n",
      "Lattice points = 32: 247\n",
      "Lattice points = 33: 180\n",
      "Lattice points = 34: 292\n",
      "Lattice points = 35: 227\n",
      "Lattice points = 36: 353\n",
      "Lattice points = 37: 256\n",
      "Lattice points = 38: 411\n",
      "Lattice points = 39: 335\n",
      "Lattice points = 40: 541\n",
      "Lattice points = 41: 431\n",
      "Lattice points = 42: 651\n",
      "Lattice points = 43: 556\n",
      "Lattice points = 44: 817\n",
      "Lattice points = 45: 652\n",
      "Lattice points = 46: 903\n",
      "Lattice points = 47: 772\n",
      "Lattice points = 48: 1188\n",
      "Lattice points = 49: 978\n",
      "Lattice points = 50: 1435\n"
     ]
    }
   ],
   "source": [
    "# Initialize a dictionary to store counts of lattice points\n",
    "lattice_point_counts = Dict(i => 0 for i in 4:MAX_LATTICE_POINTS)\n",
    "\n",
    "# Iterate through each polytope in the list\n",
    "for P in polytopes_list\n",
    "    num_lattice_points = P.N_LATTICE_POINTS\n",
    "    @assert 4 <= num_lattice_points <= MAX_LATTICE_POINTS\n",
    "    lattice_point_counts[num_lattice_points] += 1\n",
    "end\n",
    "\n",
    "# Now lattice_point_counts contains the number of polytopes with each number of lattice points\n",
    "# from 4 to 44. To display the results, you can print the counts:\n",
    "\n",
    "for num_points in 4:MAX_LATTICE_POINTS\n",
    "    println(\"Lattice points = \", num_points, \": \", lattice_point_counts[num_points])\n",
    "end"
   ]
  },
  {
   "cell_type": "code",
   "execution_count": 9,
   "id": "b61e6ced-0640-40e2-ba89-ccb388310d37",
   "metadata": {},
   "outputs": [
    {
     "name": "stdout",
     "output_type": "stream",
     "text": [
      "p.VERTICES = pm::Matrix<pm::Rational>\n",
      "1 0 0 0\n",
      "1 0 1 0\n",
      "1 8 0 0\n",
      "1 3 1 0\n",
      "1 0 0 1\n",
      "1 28 0 1\n",
      "\n",
      "pm::Matrix<pm::Integer>\n",
      "\n"
     ]
    },
    {
     "ename": "LoadError",
     "evalue": "polymake: unknown property Polytope<Rational>::VISUAL at /home/mi/kylehuang/.julia/scratchspaces/d720cf60-89b5-51f5-aff5-213f193123e7/polymake_6703754860994480127_1.11_depstree_v2/share/polymake/perllib/Polymake/Core/BigObjectType.pm line 432.\n\tPolymake::Core::BigObjectType::property(Polymake::Core::BigObjectType=ARRAY(0x43ba3858), \"VISUAL\") called at /home/mi/kylehuang/.julia/scratchspaces/d720cf60-89b5-51f5-aff5-213f193123e7/polymake_6703754860994480127_1.11_depstree_v2/share/polymake/perllib/Polymake/Core/BigObjectType.pm line 714\n\tPolymake::Core::BigObjectType::encode_descending_path(Polymake::Core::BigObjectType=ARRAY(0x43ba3858), \"VISUAL\") called at /home/mi/kylehuang/.julia/scratchspaces/d720cf60-89b5-51f5-aff5-213f193123e7/polymake_6703754860994480127_1.11_depstree_v2/share/polymake/perllib/Polymake/Core/BigObjectType.pm line 757\n\tPolymake::Core::BigObjectType::encode_read_request(Polymake::Core::BigObjectType=ARRAY(0x43ba3858), \"VISUAL\") called at /home/mi/kylehuang/.julia/scratchspaces/d720cf60-89b5-51f5-aff5-213f193123e7/polymake_6703754860994480127_1.11_depstree_v2/share/polymake/perllib/Polymake/Core/BigObject.pm line 1548\n\tPolymake::Core::BigObject::give_pv called at /home/mi/kylehuang/.julia/scratchspaces/d720cf60-89b5-51f5-aff5-213f193123e7/polymake_6703754860994480127_1.11_depstree_v2/share/polymake/perllib/Polymake/Core/BigObject.pm line 1565\n\tPolymake::Core::BigObject::give(Polymake::polytope::Polytope__Rational=ARRAY(0x4a69b0f8), \"VISUAL\") called at -e line 0\n\teval {...} called at -e line 0\n",
     "output_type": "error",
     "traceback": [
      "polymake: unknown property Polytope<Rational>::VISUAL at /home/mi/kylehuang/.julia/scratchspaces/d720cf60-89b5-51f5-aff5-213f193123e7/polymake_6703754860994480127_1.11_depstree_v2/share/polymake/perllib/Polymake/Core/BigObjectType.pm line 432.\n\tPolymake::Core::BigObjectType::property(Polymake::Core::BigObjectType=ARRAY(0x43ba3858), \"VISUAL\") called at /home/mi/kylehuang/.julia/scratchspaces/d720cf60-89b5-51f5-aff5-213f193123e7/polymake_6703754860994480127_1.11_depstree_v2/share/polymake/perllib/Polymake/Core/BigObjectType.pm line 714\n\tPolymake::Core::BigObjectType::encode_descending_path(Polymake::Core::BigObjectType=ARRAY(0x43ba3858), \"VISUAL\") called at /home/mi/kylehuang/.julia/scratchspaces/d720cf60-89b5-51f5-aff5-213f193123e7/polymake_6703754860994480127_1.11_depstree_v2/share/polymake/perllib/Polymake/Core/BigObjectType.pm line 757\n\tPolymake::Core::BigObjectType::encode_read_request(Polymake::Core::BigObjectType=ARRAY(0x43ba3858), \"VISUAL\") called at /home/mi/kylehuang/.julia/scratchspaces/d720cf60-89b5-51f5-aff5-213f193123e7/polymake_6703754860994480127_1.11_depstree_v2/share/polymake/perllib/Polymake/Core/BigObject.pm line 1548\n\tPolymake::Core::BigObject::give_pv called at /home/mi/kylehuang/.julia/scratchspaces/d720cf60-89b5-51f5-aff5-213f193123e7/polymake_6703754860994480127_1.11_depstree_v2/share/polymake/perllib/Polymake/Core/BigObject.pm line 1565\n\tPolymake::Core::BigObject::give(Polymake::polytope::Polytope__Rational=ARRAY(0x4a69b0f8), \"VISUAL\") called at -e line 0\n\teval {...} called at -e line 0\n",
      "",
      "Stacktrace:",
      " [1] \u001b[0m\u001b[1minternal_give\u001b[22m\u001b[0m\u001b[1m(\u001b[22m\u001b[90marg1\u001b[39m::\u001b[0mPolymake.LibPolymake.BigObjectAllocated, \u001b[90marg2\u001b[39m::\u001b[0mSymbol\u001b[0m\u001b[1m)\u001b[22m",
      "\u001b[90m   @\u001b[39m \u001b[35mPolymake.LibPolymake\u001b[39m \u001b[90m~/.julia/packages/CxxWrap/I0P2E/src/\u001b[39m\u001b[90m\u001b[4mCxxWrap.jl:676\u001b[24m\u001b[39m",
      " [2] \u001b[0m\u001b[1m(::Polymake.var\"#57#58\"{Polymake.LibPolymake.BigObjectAllocated, Symbol})\u001b[22m\u001b[0m\u001b[1m(\u001b[22m\u001b[0m\u001b[1m)\u001b[22m",
      "\u001b[90m   @\u001b[39m \u001b[35mPolymake\u001b[39m \u001b[90m~/.julia/packages/Polymake/SxJZd/src/\u001b[39m\u001b[90m\u001b[4mperlobj.jl:82\u001b[24m\u001b[39m",
      " [3] \u001b[0m\u001b[1mdisable_sigint\u001b[22m\u001b[0m\u001b[1m(\u001b[22m\u001b[90mf\u001b[39m::\u001b[0mPolymake.var\"#57#58\"\u001b[90m{Polymake.LibPolymake.BigObjectAllocated, Symbol}\u001b[39m\u001b[0m\u001b[1m)\u001b[22m",
      "\u001b[90m   @\u001b[39m \u001b[90mBase\u001b[39m \u001b[90m./\u001b[39m\u001b[90m\u001b[4mc.jl:167\u001b[24m\u001b[39m",
      " [4] \u001b[0m\u001b[1mgive\u001b[22m\u001b[0m\u001b[1m(\u001b[22m\u001b[90mobj\u001b[39m::\u001b[0mPolymake.LibPolymake.BigObjectAllocated, \u001b[90mprop\u001b[39m::\u001b[0mSymbol\u001b[0m\u001b[1m)\u001b[22m",
      "\u001b[90m   @\u001b[39m \u001b[35mPolymake\u001b[39m \u001b[90m~/.julia/packages/Polymake/SxJZd/src/\u001b[39m\u001b[90m\u001b[4mperlobj.jl:81\u001b[24m\u001b[39m",
      " [5] \u001b[0m\u001b[1mgetproperty\u001b[22m\u001b[0m\u001b[1m(\u001b[22m\u001b[90mobj\u001b[39m::\u001b[0mPolymake.LibPolymake.BigObjectAllocated, \u001b[90mprop\u001b[39m::\u001b[0mSymbol\u001b[0m\u001b[1m)\u001b[22m",
      "\u001b[90m   @\u001b[39m \u001b[35mPolymake\u001b[39m \u001b[90m~/.julia/packages/Polymake/SxJZd/src/\u001b[39m\u001b[90m\u001b[4mperlobj.jl:99\u001b[24m\u001b[39m",
      " [6] top-level scope",
      "\u001b[90m   @\u001b[39m \u001b[90m\u001b[4mIn[9]:4\u001b[24m\u001b[39m"
     ]
    }
   ],
   "source": [
    "p = polytopes_list[1200]\n",
    "@show p.VERTICES\n",
    "println(p.INTERIOR_LATTICE_POINTS)\n",
    "p.VISUAL"
   ]
  },
  {
   "cell_type": "code",
   "execution_count": null,
   "id": "328f25d0-95c1-4572-a8f4-f6bf3f8ebfb0",
   "metadata": {},
   "outputs": [],
   "source": []
  }
 ],
 "metadata": {
  "kernelspec": {
   "display_name": "Julia 1.11.6",
   "language": "julia",
   "name": "julia-1.11"
  },
  "language_info": {
   "file_extension": ".jl",
   "mimetype": "application/julia",
   "name": "julia",
   "version": "1.11.6"
  }
 },
 "nbformat": 4,
 "nbformat_minor": 5
}

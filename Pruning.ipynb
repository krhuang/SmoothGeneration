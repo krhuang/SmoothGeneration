{
 "cells": [
  {
   "cell_type": "code",
   "execution_count": 3,
   "id": "5e39a0c7-42b1-4a71-a13c-bfc673aa29ae",
   "metadata": {},
   "outputs": [
    {
     "name": "stdout",
     "output_type": "stream",
     "text": [
      "polymake version 4.11\n",
      "Copyright (c) 1997-2023\n",
      "Ewgenij Gawrilow, Michael Joswig, and the polymake team\n",
      "Technische Universität Berlin, Germany\n",
      "https://polymake.org\n",
      "\n",
      "This is free software licensed under GPL; see the source for copying conditions.\n",
      "There is NO warranty; not even for MERCHANTABILITY or FITNESS FOR A PARTICULAR PURPOSE.\n",
      "\n"
     ]
    }
   ],
   "source": [
    "using Polymake"
   ]
  },
  {
   "cell_type": "code",
   "execution_count": 64,
   "id": "40cec7b7-1bda-4eea-8439-fbb076d47aad",
   "metadata": {
    "scrolled": true
   },
   "outputs": [
    {
     "name": "stdout",
     "output_type": "stream",
     "text": [
      "p.VERTICES = pm::Matrix<pm::Rational>\n",
      "1 -1 -1\n",
      "1 1 -1\n",
      "1 -1 1\n",
      "1 1 1\n",
      "\n"
     ]
    },
    {
     "data": {
      "text/plain": [
       "pm::Matrix<pm::Rational>\n",
       "1 -1 -1\n",
       "1 1 -1\n",
       "1 -1 1\n",
       "1 1 1\n"
      ]
     },
     "execution_count": 64,
     "metadata": {},
     "output_type": "execute_result"
    }
   ],
   "source": [
    "p = polytope.Polytope(POINTS=[1 -1 -1; 1 1 -1; 1 -1 1; 1 1 1; 1 0 0])\n",
    "@show p.VERTICES"
   ]
  },
  {
   "cell_type": "code",
   "execution_count": 32,
   "id": "88ee1154-a4af-4e62-a521-29a26c0df4d6",
   "metadata": {},
   "outputs": [
    {
     "name": "stdout",
     "output_type": "stream",
     "text": [
      "2 smooth polytopes found of 4 polytopes read from file\n",
      "Polymake.LibPolymake.IntegerAllocated\n",
      "Polymake.LibPolymake.IntegerAllocated\n"
     ]
    }
   ],
   "source": [
    "MAX_LATTICE_POINTS = 12 #global variable for the maximum number of lattice points\n",
    "polytopes_list = [] #global list of polytopes\n",
    "open(\"SmoothGeneration_output/SmoothGeneration_output4\") do f #open the file\n",
    "    number_polytopes = 0\n",
    "    polytopes_read = 0\n",
    "    while ! eof(f)\n",
    "        #Read the number of vertices\n",
    "        number_vertices = parse(Int, readline(f))\n",
    "        polytopes_read += 1\n",
    "\n",
    "        \n",
    "        vertices_matrix = zeros(Int, number_vertices, 4)\n",
    "        #Read the matrix of vertices of polytopes P\n",
    "        for a in 1:number_vertices\n",
    "            vertices_string = readline(f)\n",
    "            vertex_vector = [1;parse.(Int64, split(vertices_string))] #append 1 to the beginning due to polymake standards\n",
    "            vertices_matrix[a, :] .= vertex_vector\n",
    "        end\n",
    "        #Create the polytope from its vertices\n",
    "        new_polytope = polytope.Polytope(POINTS=vertices_matrix)\n",
    "        \n",
    "        if new_polytope.SMOOTH #Checks if the polytope is smooth\n",
    "            if new_polytope.N_LATTICE_POINTS <= MAX_LATTICE_POINTS #Check if the polytope does not exceed the maximum number of lattice points\n",
    "                isomorphic_found = false\n",
    "                for smooth_polytope in polytopes_list\n",
    "                    if polytope.lattice_isomorphic_smooth_polytopes(smooth_polytope, new_polytope) #Check if any of the polytopes are lattice-equivalent\n",
    "                        isomorphic_found = true\n",
    "                        #println(\"Isomorphic lattice polytope found!\")\n",
    "                        break\n",
    "                    end\n",
    "                end\n",
    "                if !isomorphic_found\n",
    "                    push!(polytopes_list, new_polytope)\n",
    "                    number_polytopes += 1\n",
    "                end\n",
    "            end\n",
    "        else\n",
    "            println(\"Non-smooth polytope found!\")\n",
    "        end\n",
    "    end \n",
    "    println(number_polytopes, \" smooth polytopes extracted of \", polytopes_read, \" polytopes read from file\")\n",
    "end\n",
    "\n",
    "output_file_prefix = \"Prune_output/prune_output\"\n",
    "\n",
    "for smooth_polytope in polytopes_list\n",
    "    println(typeof(smooth_polytope.N_LATTICE_POINTS))\n",
    "    num_vertices_str = string(UInt(smooth_polytope.N_LATTICE_POINTS))\n",
    "    output_file = \"$output_file_prefix$num_vertices_str\"\n",
    "    if !isfile(output_file)\n",
    "        touch(output_file)  # Create an empty file if it doesn't exist\n",
    "    end\n",
    "    open(output_file, \"a\") do file #Open the file in appending mode\n",
    "        println(file, smooth_polytope.N_VERTICES)\n",
    "\n",
    "        #Printing the contents of the matrix and avoiding the Polymake types showing up\n",
    "        for row in eachrow(smooth_polytope.VERTICES) \n",
    "            println(file, join(row[2:end], \" \"))\n",
    "        end\n",
    "    end\n",
    "end"
   ]
  },
  {
   "cell_type": "code",
   "execution_count": null,
   "id": "19b8d5cb-e01e-46ba-b094-7f1d6baa4d22",
   "metadata": {},
   "outputs": [],
   "source": []
  },
  {
   "cell_type": "code",
   "execution_count": 19,
   "id": "f4c1307e-fe1a-42a6-821c-7e43d5da30b4",
   "metadata": {},
   "outputs": [
    {
     "name": "stdout",
     "output_type": "stream",
     "text": [
      "0\n"
     ]
    }
   ],
   "source": [
    "println(number_polytopes)\n"
   ]
  },
  {
   "cell_type": "code",
   "execution_count": null,
   "id": "79457295-e556-494a-8870-1d597ecc7be5",
   "metadata": {},
   "outputs": [],
   "source": []
  }
 ],
 "metadata": {
  "kernelspec": {
   "display_name": "Julia 1.8.1",
   "language": "julia",
   "name": "julia-1.8"
  },
  "language_info": {
   "file_extension": ".jl",
   "mimetype": "application/julia",
   "name": "julia",
   "version": "1.8.1"
  }
 },
 "nbformat": 4,
 "nbformat_minor": 5
}

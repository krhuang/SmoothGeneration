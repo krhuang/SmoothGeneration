{
 "cells": [
  {
   "cell_type": "code",
   "execution_count": 1,
   "id": "5e39a0c7-42b1-4a71-a13c-bfc673aa29ae",
   "metadata": {},
   "outputs": [
    {
     "name": "stdout",
     "output_type": "stream",
     "text": [
      "polymake version 4.9\n",
      "Copyright (c) 1997-2023\n",
      "Ewgenij Gawrilow, Michael Joswig, and the polymake team\n",
      "Technische Universität Berlin, Germany\n",
      "https://polymake.org\n",
      "\n",
      "This is free software licensed under GPL; see the source for copying conditions.\n",
      "There is NO warranty; not even for MERCHANTABILITY or FITNESS FOR A PARTICULAR PURPOSE.\n",
      "\n"
     ]
    }
   ],
   "source": [
    "#Importing Packages\n",
    "using Polymake #Via polymake.jl\n",
    "using Test\n",
    "using Base.Threads  # For parallel threads"
   ]
  },
  {
   "cell_type": "code",
   "execution_count": 2,
   "id": "40cec7b7-1bda-4eea-8439-fbb076d47aad",
   "metadata": {
    "scrolled": true
   },
   "outputs": [
    {
     "name": "stdout",
     "output_type": "stream",
     "text": [
      "p.VERTICES = pm::Matrix<pm::Rational>\n",
      "1 -1 -1\n",
      "1 1 -1\n",
      "1 -1 1\n",
      "1 1 1\n",
      "\n",
      "p.N_LATTICE_POINTS = 9\n"
     ]
    },
    {
     "data": {
      "text/plain": [
       "9"
      ]
     },
     "execution_count": 2,
     "metadata": {},
     "output_type": "execute_result"
    }
   ],
   "source": [
    "#Checking Polymake works properly\n",
    "p = polytope.Polytope(POINTS=[1 -1 -1; 1 1 -1; 1 -1 1; 1 1 1; 1 0 0])\n",
    "@show p.VERTICES\n",
    "@show p.N_LATTICE_POINTS"
   ]
  },
  {
   "cell_type": "code",
   "execution_count": 3,
   "id": "88ee1154-a4af-4e62-a521-29a26c0df4d6",
   "metadata": {
    "scrolled": true
   },
   "outputs": [
    {
     "name": "stdout",
     "output_type": "stream",
     "text": [
      "4 smooth polytopes extracted of 4 polytopes read from file SmoothGeneration_output4\n",
      "2074 smooth polytopes extracted of 10969 polytopes read from file SmoothGeneration_output6\n",
      "1571 smooth polytopes extracted of 27225 polytopes read from file SmoothGeneration_output8\n",
      "805 smooth polytopes extracted of 9249 polytopes read from file SmoothGeneration_output10\n",
      "1355 smooth polytopes extracted of 16724 polytopes read from file SmoothGeneration_output12\n",
      "498 smooth polytopes extracted of 8218 polytopes read from file SmoothGeneration_output14\n",
      "312 smooth polytopes extracted of 4177 polytopes read from file SmoothGeneration_output16\n",
      "37 smooth polytopes extracted of 419 polytopes read from file SmoothGeneration_output18\n",
      "4 smooth polytopes extracted of 55 polytopes read from file SmoothGeneration_output20\n",
      "0 smooth polytopes extracted of 9 polytopes read from file SmoothGeneration_output22\n",
      "1 smooth polytopes extracted of 10 polytopes read from file SmoothGeneration_output24\n",
      "Skipping file SmoothGeneration_output26, does not exist/not found.\n",
      "Skipping file SmoothGeneration_output28, does not exist/not found.\n",
      "Skipping file SmoothGeneration_output30, does not exist/not found.\n",
      "0 smooth polytopes extracted of 1 polytopes read from file SmoothGeneration_output32\n"
     ]
    }
   ],
   "source": [
    "MAX_LATTICE_POINTS = 44  # global variable for the maximum number of lattice points\n",
    "polytopes_list = Vector{Polytope}()  # global list of polytopes, empty initially\n",
    "\n",
    "# Function to process the polytope generation and extraction for each `i`\n",
    "function process_polytopes(i)\n",
    "    local_polytopes_list = Vector{Polytope}()  # List to hold polytopes for this particular `i`\n",
    "    try\n",
    "        open(\"SmoothGeneration_output/SmoothGeneration_output$i\") do f\n",
    "            number_polytopes = 0\n",
    "            polytopes_read = 0\n",
    "            while !eof(f)\n",
    "                # Read the number of vertices\n",
    "                number_vertices = parse(Int, readline(f))\n",
    "                polytopes_read += 1\n",
    "\n",
    "                vertices_matrix = zeros(Int, number_vertices, 4)\n",
    "                # Read the matrix of vertices of polytopes P\n",
    "                for a in 1:number_vertices\n",
    "                    vertices_string = readline(f)\n",
    "                    vertex_vector = [1; parse.(Int64, split(vertices_string))]  # Append 1 to the beginning due to polymake standards\n",
    "                    vertices_matrix[a, :] .= vertex_vector\n",
    "                end\n",
    "                # Create the polytope from its vertices\n",
    "                new_polytope = polytope.Polytope(POINTS=vertices_matrix)\n",
    "\n",
    "                if new_polytope.SMOOTH == false  # Checks that the polytope is smooth\n",
    "                    for row in eachrow(new_polytope.VERTICES) \n",
    "                        println(join(row[2:end], \" \"))\n",
    "                    end\n",
    "                else\n",
    "                    @assert new_polytope.NORMAL  # Checks that the polytope is normal\n",
    "                end\n",
    "\n",
    "                if new_polytope.N_LATTICE_POINTS <= MAX_LATTICE_POINTS  # Check if the polytope does not exceed the maximum number of lattice points\n",
    "                    isomorphic_found = false\n",
    "                    # Check if polytopes_list already has this polytope\n",
    "                    for smooth_polytope in local_polytopes_list\n",
    "                        if polytope.lattice_isomorphic_smooth_polytopes(smooth_polytope, new_polytope)  # Check if any of the polytopes are lattice-equivalent\n",
    "                            isomorphic_found = true  # Raise flag\n",
    "                            break\n",
    "                        end\n",
    "                    end\n",
    "                    if !isomorphic_found\n",
    "                        push!(local_polytopes_list, new_polytope)  # Append to the list for this particular `i`\n",
    "                        number_polytopes += 1\n",
    "                    end\n",
    "                end\n",
    "            end \n",
    "            println(number_polytopes, \" smooth polytopes extracted of \", polytopes_read, \" polytopes read from file SmoothGeneration_output$i\")\n",
    "        end\n",
    "    catch e\n",
    "        if isa(e, SystemError)\n",
    "            println(\"Skipping file SmoothGeneration_output$i, does not exist/not found.\")\n",
    "        else\n",
    "            rethrow(e)\n",
    "        end    \n",
    "    end\n",
    "    return local_polytopes_list  # Return the list of polytopes for this `i`\n",
    "end\n",
    "\n",
    "# Run the loop in parallel\n",
    "Threads.@threads for i in 4:2:32\n",
    "    local_polytopes = process_polytopes(i)  # Process polytopes for the current `i`\n",
    "    \n",
    "    # Thread-safe way to concatenate lists. Use `lock` to ensure threads don't interfere.\n",
    "    lock = ReentrantLock()  # Lock to ensure thread-safety\n",
    "    lock(lock) do\n",
    "        append!(polytopes_list, local_polytopes)  # Append to the global list\n",
    "    end\n",
    "end\n",
    "\n",
    "# Optional: After the parallel execution, print or analyze the results\n",
    "println(\"Total number of polytopes processed: \", length(polytopes_list))"
   ]
  },
  {
   "cell_type": "code",
   "execution_count": 4,
   "id": "19b8d5cb-e01e-46ba-b094-7f1d6baa4d22",
   "metadata": {},
   "outputs": [],
   "source": [
    "#Outputting the Smooth 3-polytopes after creating the list\n",
    "output_file = \"prune_output\" # Output Filename\n",
    "\n",
    "if !isfile(output_file)\n",
    "    touch(output_file)  # Create an empty file if it doesn't exist\n",
    "end\n",
    "\n",
    "for smooth_polytope in polytopes_list\n",
    "    @assert smooth_polytope.SMOOTH\n",
    "    @assert smooth_polytope.NORMAL\n",
    "    \n",
    "    open(output_file, \"a\") do file #Open the file in appending mode\n",
    "        println(file, smooth_polytope.N_VERTICES)\n",
    "\n",
    "        #Printing the contents of the matrix and avoiding the Polymake types showing up\n",
    "        for row in eachrow(smooth_polytope.VERTICES) \n",
    "            println(file, join(row[2:end], \" \"))\n",
    "        end\n",
    "    end\n",
    "end"
   ]
  },
  {
   "cell_type": "code",
   "execution_count": 5,
   "id": "dcb52399-e6df-401a-8ff7-9b9c205a2964",
   "metadata": {},
   "outputs": [
    {
     "name": "stdout",
     "output_type": "stream",
     "text": [
      "981 with an interior lattice point\n",
      "61 with one interior lattice point\n",
      "227 with two interior lattice points\n",
      "404 with three interior lattice points\n",
      "238 with four interior lattice points\n",
      "(6661,)\n"
     ]
    }
   ],
   "source": [
    "#Performing various analyses on the produced polytopes\n",
    "counter = 0\n",
    "counter1 = 0\n",
    "counter2 = 0\n",
    "counter3 = 0\n",
    "counter4 = 0\n",
    "\n",
    "for smooth_polytope in polytopes_list\n",
    "    if smooth_polytope.N_INTERIOR_LATTICE_POINTS >= 1\n",
    "        counter += 1\n",
    "        if smooth_polytope.N_INTERIOR_LATTICE_POINTS == 1\n",
    "            counter1 += 1\n",
    "        end\n",
    "        if smooth_polytope.N_INTERIOR_LATTICE_POINTS == 2\n",
    "            counter2 += 1\n",
    "        end\n",
    "        if smooth_polytope.N_INTERIOR_LATTICE_POINTS == 3\n",
    "            counter3 += 1\n",
    "        end\n",
    "        if smooth_polytope.N_INTERIOR_LATTICE_POINTS == 4\n",
    "            counter4 += 1\n",
    "        end\n",
    "    end\n",
    "end\n",
    "\n",
    "println(counter, \" with an interior lattice point\")\n",
    "println(counter1, \" with one interior lattice point\")\n",
    "println(counter2, \" with two interior lattice points\")\n",
    "println(counter3, \" with three interior lattice points\")\n",
    "println(counter4, \" with four interior lattice points\")\n",
    "\n",
    "println(size(polytopes_list))"
   ]
  },
  {
   "cell_type": "code",
   "execution_count": 7,
   "id": "e6a6f497",
   "metadata": {},
   "outputs": [
    {
     "name": "stdout",
     "output_type": "stream",
     "text": [
      "Lattice points = 4: 1\n",
      "Lattice points = 5: 0\n",
      "Lattice points = 6: 1\n",
      "Lattice points = 7: 1\n",
      "Lattice points = 8: 3\n",
      "Lattice points = 9: 4\n",
      "Lattice points = 10: 6\n",
      "Lattice points = 11: 5\n",
      "Lattice points = 12: 12\n",
      "Lattice points = 13: 10\n",
      "Lattice points = 14: 17\n",
      "Lattice points = 15: 14\n",
      "Lattice points = 16: 29\n",
      "Lattice points = 17: 21\n",
      "Lattice points = 18: 39\n",
      "Lattice points = 19: 30\n",
      "Lattice points = 20: 54\n",
      "Lattice points = 21: 42\n",
      "Lattice points = 22: 63\n",
      "Lattice points = 23: 56\n",
      "Lattice points = 24: 94\n",
      "Lattice points = 25: 75\n",
      "Lattice points = 26: 113\n",
      "Lattice points = 27: 91\n",
      "Lattice points = 28: 154\n",
      "Lattice points = 29: 103\n",
      "Lattice points = 30: 186\n",
      "Lattice points = 31: 140\n",
      "Lattice points = 32: 247\n",
      "Lattice points = 33: 180\n",
      "Lattice points = 34: 292\n",
      "Lattice points = 35: 227\n",
      "Lattice points = 36: 353\n",
      "Lattice points = 37: 256\n",
      "Lattice points = 38: 411\n",
      "Lattice points = 39: 335\n",
      "Lattice points = 40: 541\n",
      "Lattice points = 41: 431\n",
      "Lattice points = 42: 651\n",
      "Lattice points = 43: 556\n",
      "Lattice points = 44: 817\n"
     ]
    }
   ],
   "source": [
    "# Initialize a dictionary to store counts of lattice points\n",
    "lattice_point_counts = Dict(i => 0 for i in 4:44)\n",
    "\n",
    "# Iterate through each polytope in the list\n",
    "for P in polytopes_list\n",
    "    num_lattice_points = P.N_LATTICE_POINTS\n",
    "    @assert 4 <= num_lattice_points <= 44\n",
    "    lattice_point_counts[num_lattice_points] += 1\n",
    "end\n",
    "\n",
    "# Now lattice_point_counts contains the number of polytopes with each number of lattice points\n",
    "# from 4 to 44. To display the results, you can print the counts:\n",
    "\n",
    "for num_points in 4:44\n",
    "    println(\"Lattice points = \", num_points, \": \", lattice_point_counts[num_points])\n",
    "end"
   ]
  },
  {
   "cell_type": "code",
   "execution_count": 10,
   "id": "b61e6ced-0640-40e2-ba89-ccb388310d37",
   "metadata": {},
   "outputs": [
    {
     "name": "stdout",
     "output_type": "stream",
     "text": [
      "p.VERTICES = pm::Matrix<pm::Rational>\n",
      "1 0 0 0\n",
      "1 0 1 0\n",
      "1 3 0 0\n",
      "1 3 3 0\n",
      "1 2 3 0\n",
      "1 0 0 1\n",
      "1 0 1 1\n",
      "1 3 0 1\n",
      "1 3 3 1\n",
      "1 2 3 1\n",
      "\n",
      "pm::Matrix<pm::Integer>\n",
      "\n"
     ]
    },
    {
     "ename": "LoadError",
     "evalue": "Exception occured at Polymake side:\nunknown property Polytope<Rational>::VISUAL at /home/kyle/.julia/artifacts/51aeebd7aa37184cb3796181547a7148af3bd674/share/polymake/perllib/Polymake/Core/BigObjectType.pm line 432.\n\tPolymake::Core::BigObjectType::property(Polymake::Core::BigObjectType=ARRAY(0x5ff4d48), \"VISUAL\") called at /home/kyle/.julia/artifacts/51aeebd7aa37184cb3796181547a7148af3bd674/share/polymake/perllib/Polymake/Core/BigObjectType.pm line 714\n\tPolymake::Core::BigObjectType::encode_descending_path(Polymake::Core::BigObjectType=ARRAY(0x5ff4d48), \"VISUAL\") called at /home/kyle/.julia/artifacts/51aeebd7aa37184cb3796181547a7148af3bd674/share/polymake/perllib/Polymake/Core/BigObjectType.pm line 757\n\tPolymake::Core::BigObjectType::encode_read_request(Polymake::Core::BigObjectType=ARRAY(0x5ff4d48), \"VISUAL\") called at /home/kyle/.julia/artifacts/51aeebd7aa37184cb3796181547a7148af3bd674/share/polymake/perllib/Polymake/Core/BigObject.pm line 1551\n\tPolymake::Core::BigObject::give_pv called at /home/kyle/.julia/artifacts/51aeebd7aa37184cb3796181547a7148af3bd674/share/polymake/perllib/Polymake/Core/BigObject.pm line 1568\n\tPolymake::Core::BigObject::give(Polymake::polytope::Polytope__Rational=ARRAY(0xe789588), \"VISUAL\") called at -e line 0\n\teval {...} called at -e line 0\n",
     "output_type": "error",
     "traceback": [
      "Exception occured at Polymake side:\nunknown property Polytope<Rational>::VISUAL at /home/kyle/.julia/artifacts/51aeebd7aa37184cb3796181547a7148af3bd674/share/polymake/perllib/Polymake/Core/BigObjectType.pm line 432.\n\tPolymake::Core::BigObjectType::property(Polymake::Core::BigObjectType=ARRAY(0x5ff4d48), \"VISUAL\") called at /home/kyle/.julia/artifacts/51aeebd7aa37184cb3796181547a7148af3bd674/share/polymake/perllib/Polymake/Core/BigObjectType.pm line 714\n\tPolymake::Core::BigObjectType::encode_descending_path(Polymake::Core::BigObjectType=ARRAY(0x5ff4d48), \"VISUAL\") called at /home/kyle/.julia/artifacts/51aeebd7aa37184cb3796181547a7148af3bd674/share/polymake/perllib/Polymake/Core/BigObjectType.pm line 757\n\tPolymake::Core::BigObjectType::encode_read_request(Polymake::Core::BigObjectType=ARRAY(0x5ff4d48), \"VISUAL\") called at /home/kyle/.julia/artifacts/51aeebd7aa37184cb3796181547a7148af3bd674/share/polymake/perllib/Polymake/Core/BigObject.pm line 1551\n\tPolymake::Core::BigObject::give_pv called at /home/kyle/.julia/artifacts/51aeebd7aa37184cb3796181547a7148af3bd674/share/polymake/perllib/Polymake/Core/BigObject.pm line 1568\n\tPolymake::Core::BigObject::give(Polymake::polytope::Polytope__Rational=ARRAY(0xe789588), \"VISUAL\") called at -e line 0\n\teval {...} called at -e line 0\n",
      "",
      "Stacktrace:",
      " [1] give(obj::Polymake.BigObjectAllocated, prop::Symbol)",
      "   @ Polymake ~/.julia/packages/Polymake/QNebt/src/perlobj.jl:57",
      " [2] getproperty(obj::Polymake.BigObjectAllocated, prop::Symbol)",
      "   @ Polymake ~/.julia/packages/Polymake/QNebt/src/perlobj.jl:71",
      " [3] top-level scope",
      "   @ In[10]:4"
     ]
    }
   ],
   "source": [
    "p = polytopes_list[1200]\n",
    "@show p.VERTICES\n",
    "println(p.INTERIOR_LATTICE_POINTS)\n",
    "p.VISUAL"
   ]
  },
  {
   "cell_type": "code",
   "execution_count": null,
   "id": "328f25d0-95c1-4572-a8f4-f6bf3f8ebfb0",
   "metadata": {},
   "outputs": [],
   "source": []
  }
 ],
 "metadata": {
  "kernelspec": {
   "display_name": "Julia 1.9.0",
   "language": "julia",
   "name": "julia-1.9"
  },
  "language_info": {
   "file_extension": ".jl",
   "mimetype": "application/julia",
   "name": "julia",
   "version": "1.9.0"
  }
 },
 "nbformat": 4,
 "nbformat_minor": 5
}

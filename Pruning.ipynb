{
 "cells": [
  {
   "cell_type": "code",
   "execution_count": 1,
   "id": "5e39a0c7-42b1-4a71-a13c-bfc673aa29ae",
   "metadata": {},
   "outputs": [
    {
     "name": "stdout",
     "output_type": "stream",
     "text": [
      "polymake version 4.11\n",
      "Copyright (c) 1997-2023\n",
      "Ewgenij Gawrilow, Michael Joswig, and the polymake team\n",
      "Technische Universität Berlin, Germany\n",
      "https://polymake.org\n",
      "\n",
      "This is free software licensed under GPL; see the source for copying conditions.\n",
      "There is NO warranty; not even for MERCHANTABILITY or FITNESS FOR A PARTICULAR PURPOSE.\n",
      "\n"
     ]
    }
   ],
   "source": [
    "using Polymake\n",
    "using Test"
   ]
  },
  {
   "cell_type": "code",
   "execution_count": 2,
   "id": "40cec7b7-1bda-4eea-8439-fbb076d47aad",
   "metadata": {
    "scrolled": true
   },
   "outputs": [
    {
     "name": "stdout",
     "output_type": "stream",
     "text": [
      "p.VERTICES = pm::Matrix<pm::Rational>\n",
      "1 -1 -1\n",
      "1 1 -1\n",
      "1 -1 1\n",
      "1 1 1\n",
      "\n"
     ]
    },
    {
     "name": "stderr",
     "output_type": "stream",
     "text": [
      "polymake: used package ppl\n",
      "  The Parma Polyhedra Library ([[wiki:external_software#PPL]]): A C++ library for convex polyhedra\n",
      "  and other numerical abstractions.\n",
      "  http://www.cs.unipr.it/ppl/\n",
      "\n"
     ]
    },
    {
     "data": {
      "text/plain": [
       "pm::Matrix<pm::Rational>\n",
       "1 -1 -1\n",
       "1 1 -1\n",
       "1 -1 1\n",
       "1 1 1\n"
      ]
     },
     "execution_count": 2,
     "metadata": {},
     "output_type": "execute_result"
    }
   ],
   "source": [
    "p = polytope.Polytope(POINTS=[1 -1 -1; 1 1 -1; 1 -1 1; 1 1 1; 1 0 0])\n",
    "@show p.VERTICES"
   ]
  },
  {
   "cell_type": "code",
   "execution_count": 3,
   "id": "88ee1154-a4af-4e62-a521-29a26c0df4d6",
   "metadata": {},
   "outputs": [
    {
     "name": "stdout",
     "output_type": "stream",
     "text": [
      "3 smooth polytopes extracted of 3 polytopes read from file\n",
      "293"
     ]
    },
    {
     "name": "stderr",
     "output_type": "stream",
     "text": [
      "polymake: used package bliss\n",
      "  [[wiki:external_software#bliss]] is a software for computation of automorphism groups of graphs.\n",
      "  Copyright by Tommi Junttila and Petteri Kaski.\n",
      "  http://www.tcs.hut.fi/Software/bliss/\n"
     ]
    },
    {
     "name": "stdout",
     "output_type": "stream",
     "text": [
      " smooth polytopes extracted of 1386 polytopes read from file\n",
      "177 smooth polytopes extracted of 2858 polytopes read from file\n",
      "54 smooth polytopes extracted of 664 polytopes read from file\n",
      "45 smooth polytopes extracted of 1885 polytopes read from file\n",
      "5 smooth polytopes extracted of 784 polytopes read from file\n",
      "3 smooth polytopes extracted of 791 polytopes read from file\n",
      "0 smooth polytopes extracted of 257 polytopes read from file\n",
      "0 smooth polytopes extracted of 115 polytopes read from file\n"
     ]
    }
   ],
   "source": [
    "MAX_LATTICE_POINTS = 26 #global variable for the maximum number of lattice points\n",
    "polytopes_list = [] #global list of polytopes\n",
    "\n",
    "for i in 4:2:20\n",
    "    open(\"SmoothGeneration_output/SmoothGeneration_output$i\") do f #open the file\n",
    "        number_polytopes = 0\n",
    "        polytopes_read = 0\n",
    "        while ! eof(f)\n",
    "            #Read the number of vertices\n",
    "            number_vertices = parse(Int, readline(f))\n",
    "            polytopes_read += 1\n",
    "            \n",
    "            vertices_matrix = zeros(Int, number_vertices, 4)\n",
    "            #Read the matrix of vertices of polytopes P\n",
    "            for a in 1:number_vertices\n",
    "                vertices_string = readline(f)\n",
    "                vertex_vector = [1;parse.(Int64, split(vertices_string))] #append 1 to the beginning due to polymake standards\n",
    "                vertices_matrix[a, :] .= vertex_vector\n",
    "            end\n",
    "            #Create the polytope from its vertices\n",
    "            new_polytope = polytope.Polytope(POINTS=vertices_matrix)\n",
    "            \n",
    "            @assert new_polytope.SMOOTH #Checks if the polytope is smooth\n",
    "            if new_polytope.N_LATTICE_POINTS <= MAX_LATTICE_POINTS #Check if the polytope does not exceed the maximum number of lattice points\n",
    "                isomorphic_found = false\n",
    "                #Check we polytopes_list already has this polytope\n",
    "                for smooth_polytope in polytopes_list\n",
    "                    if polytope.lattice_isomorphic_smooth_polytopes(smooth_polytope, new_polytope) #Check if any of the polytopes are lattice-equivalent\n",
    "                        isomorphic_found = true #Raise flag\n",
    "                        break\n",
    "                    end\n",
    "                end\n",
    "                if !isomorphic_found\n",
    "                    push!(polytopes_list, new_polytope) #Append to the list\n",
    "                    number_polytopes += 1\n",
    "                end\n",
    "            end\n",
    "        end \n",
    "        println(number_polytopes, \" smooth polytopes extracted of \", polytopes_read, \" polytopes read from file\")\n",
    "    end\n",
    "end"
   ]
  },
  {
   "cell_type": "code",
   "execution_count": 10,
   "id": "19b8d5cb-e01e-46ba-b094-7f1d6baa4d22",
   "metadata": {},
   "outputs": [
    {
     "name": "stderr",
     "output_type": "stream",
     "text": [
      "polymake: used package 4ti2\n",
      "  4ti2 -- A software package for algebraic, geometric and combinatorial problems on linear spaces.\n",
      "  Copyright by 4ti2 team.\n",
      "  http://www.4ti2.de/\n",
      "\n"
     ]
    }
   ],
   "source": [
    "#Outputting the Smooth 3-polytopes after creating the list\n",
    "output_file = \"prune_output\" #filename\n",
    "\n",
    "if !isfile(output_file)\n",
    "    touch(output_file)  # Create an empty file if it doesn't exist\n",
    "end\n",
    "\n",
    "for smooth_polytope in polytopes_list\n",
    "    @assert smooth_polytope.SMOOTH\n",
    "    @assert smooth_polytope.NORMAL\n",
    "    \n",
    "    open(output_file, \"a\") do file #Open the file in appending mode\n",
    "        println(file, smooth_polytope.N_VERTICES)\n",
    "\n",
    "        #Printing the contents of the matrix and avoiding the Polymake types showing up\n",
    "        for row in eachrow(smooth_polytope.VERTICES) \n",
    "            println(file, join(row[2:end], \" \"))\n",
    "        end\n",
    "    end\n",
    "end"
   ]
  },
  {
   "cell_type": "code",
   "execution_count": 4,
   "id": "dcb52399-e6df-401a-8ff7-9b9c205a2964",
   "metadata": {},
   "outputs": [
    {
     "name": "stdout",
     "output_type": "stream",
     "text": [
      "1\n",
      "1\n",
      "1\n",
      "1\n",
      "1\n",
      "1\n",
      "1\n",
      "1\n",
      "1\n",
      "1\n",
      "1\n",
      "1\n",
      "1\n",
      "1\n",
      "1\n",
      "1\n",
      "1\n",
      "1\n",
      "1\n",
      "1\n",
      "1\n",
      "1\n",
      "1\n",
      "1\n",
      "1\n",
      "1\n",
      "(580,)\n"
     ]
    }
   ],
   "source": [
    "#Performing various analyses on the produced polytopes\n",
    "\n",
    "for smooth_polytope in polytopes_list\n",
    "    if smooth_polytope.N_INTERIOR_LATTICE_POINTS >= 1\n",
    "        println(smooth_polytope.N_INTERIOR_LATTICE_POINTS)\n",
    "    end\n",
    "end\n",
    "\n",
    "println(size(polytopes_list))"
   ]
  },
  {
   "cell_type": "code",
   "execution_count": 24,
   "id": "b61e6ced-0640-40e2-ba89-ccb388310d37",
   "metadata": {},
   "outputs": [
    {
     "name": "stdout",
     "output_type": "stream",
     "text": [
      "p.VERTICES = pm::Matrix<pm::Rational>\n",
      "1 0 0 0\n",
      "1 0 1 0\n",
      "1 2 0 0\n",
      "1 2 1 0\n",
      "1 0 0 2\n",
      "1 0 3 2\n",
      "1 0 3 3\n",
      "1 0 1 3\n",
      "1 2 0 1\n",
      "1 1 0 2\n",
      "1 2 2 1\n",
      "1 1 3 2\n",
      "\n",
      "pm::Matrix<pm::Integer>\n",
      "1 1 1 1\n",
      "\n"
     ]
    },
    {
     "ename": "LoadError",
     "evalue": "polymake: unknown property Polytope<Rational>::VISUAL at /home/kyle/.julia/scratchspaces/d720cf60-89b5-51f5-aff5-213f193123e7/polymake_12794641098094048062_1.8_depstree_v2/share/polymake/perllib/Polymake/Core/BigObjectType.pm line 432.\n\tPolymake::Core::BigObjectType::property(Polymake::Core::BigObjectType=ARRAY(0x891dc70), \"VISUAL\") called at /home/kyle/.julia/scratchspaces/d720cf60-89b5-51f5-aff5-213f193123e7/polymake_12794641098094048062_1.8_depstree_v2/share/polymake/perllib/Polymake/Core/BigObjectType.pm line 714\n\tPolymake::Core::BigObjectType::encode_descending_path(Polymake::Core::BigObjectType=ARRAY(0x891dc70), \"VISUAL\") called at /home/kyle/.julia/scratchspaces/d720cf60-89b5-51f5-aff5-213f193123e7/polymake_12794641098094048062_1.8_depstree_v2/share/polymake/perllib/Polymake/Core/BigObjectType.pm line 757\n\tPolymake::Core::BigObjectType::encode_read_request(Polymake::Core::BigObjectType=ARRAY(0x891dc70), \"VISUAL\") called at /home/kyle/.julia/scratchspaces/d720cf60-89b5-51f5-aff5-213f193123e7/polymake_12794641098094048062_1.8_depstree_v2/share/polymake/perllib/Polymake/Core/BigObject.pm line 1548\n\tPolymake::Core::BigObject::give_pv called at /home/kyle/.julia/scratchspaces/d720cf60-89b5-51f5-aff5-213f193123e7/polymake_12794641098094048062_1.8_depstree_v2/share/polymake/perllib/Polymake/Core/BigObject.pm line 1565\n\tPolymake::Core::BigObject::give(Polymake::polytope::Polytope__Rational=ARRAY(0xfb8fde8), \"VISUAL\") called at -e line 0\n\teval {...} called at -e line 0\n",
     "output_type": "error",
     "traceback": [
      "polymake: unknown property Polytope<Rational>::VISUAL at /home/kyle/.julia/scratchspaces/d720cf60-89b5-51f5-aff5-213f193123e7/polymake_12794641098094048062_1.8_depstree_v2/share/polymake/perllib/Polymake/Core/BigObjectType.pm line 432.\n\tPolymake::Core::BigObjectType::property(Polymake::Core::BigObjectType=ARRAY(0x891dc70), \"VISUAL\") called at /home/kyle/.julia/scratchspaces/d720cf60-89b5-51f5-aff5-213f193123e7/polymake_12794641098094048062_1.8_depstree_v2/share/polymake/perllib/Polymake/Core/BigObjectType.pm line 714\n\tPolymake::Core::BigObjectType::encode_descending_path(Polymake::Core::BigObjectType=ARRAY(0x891dc70), \"VISUAL\") called at /home/kyle/.julia/scratchspaces/d720cf60-89b5-51f5-aff5-213f193123e7/polymake_12794641098094048062_1.8_depstree_v2/share/polymake/perllib/Polymake/Core/BigObjectType.pm line 757\n\tPolymake::Core::BigObjectType::encode_read_request(Polymake::Core::BigObjectType=ARRAY(0x891dc70), \"VISUAL\") called at /home/kyle/.julia/scratchspaces/d720cf60-89b5-51f5-aff5-213f193123e7/polymake_12794641098094048062_1.8_depstree_v2/share/polymake/perllib/Polymake/Core/BigObject.pm line 1548\n\tPolymake::Core::BigObject::give_pv called at /home/kyle/.julia/scratchspaces/d720cf60-89b5-51f5-aff5-213f193123e7/polymake_12794641098094048062_1.8_depstree_v2/share/polymake/perllib/Polymake/Core/BigObject.pm line 1565\n\tPolymake::Core::BigObject::give(Polymake::polytope::Polytope__Rational=ARRAY(0xfb8fde8), \"VISUAL\") called at -e line 0\n\teval {...} called at -e line 0\n",
      "",
      "Stacktrace:",
      " [1] give(obj::Polymake.LibPolymake.BigObjectAllocated, prop::Symbol)",
      "   @ Polymake ~/.julia/environments/v1.8/dev/Polymake/src/perlobj.jl:68",
      " [2] getproperty(obj::Polymake.LibPolymake.BigObjectAllocated, prop::Symbol)",
      "   @ Polymake ~/.julia/environments/v1.8/dev/Polymake/src/perlobj.jl:82",
      " [3] top-level scope",
      "   @ In[24]:4"
     ]
    }
   ],
   "source": [
    "p = polytopes_list[569]\n",
    "@show p.VERTICES\n",
    "println(p.INTERIOR_LATTICE_POINTS)\n",
    "p.VISUAL"
   ]
  },
  {
   "cell_type": "code",
   "execution_count": null,
   "id": "328f25d0-95c1-4572-a8f4-f6bf3f8ebfb0",
   "metadata": {},
   "outputs": [],
   "source": []
  }
 ],
 "metadata": {
  "kernelspec": {
   "display_name": "Julia 1.8.1",
   "language": "julia",
   "name": "julia-1.8"
  },
  "language_info": {
   "file_extension": ".jl",
   "mimetype": "application/julia",
   "name": "julia",
   "version": "1.8.1"
  }
 },
 "nbformat": 4,
 "nbformat_minor": 5
}
